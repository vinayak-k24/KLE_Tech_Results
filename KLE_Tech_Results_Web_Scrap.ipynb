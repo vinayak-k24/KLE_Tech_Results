{
 "cells": [
  {
   "cell_type": "code",
   "execution_count": null,
   "metadata": {},
   "outputs": [],
   "source": [
    "# Install the neccessary libraries \n",
    "\n",
    "!pip install bs4\n",
    "!pip install selenium"
   ]
  },
  {
   "cell_type": "code",
   "execution_count": 1,
   "metadata": {},
   "outputs": [],
   "source": [
    "# Impor the necessary libraries \n",
    "\n",
    "from bs4 import BeautifulSoup\n",
    "from selenium import webdriver\n",
    "import time\n",
    "\n",
    "#You need to have driver corresponding to your Google Chrome browser or update browser\n",
    "from selenium.webdriver.common.by import By"
   ]
  },
  {
   "cell_type": "code",
   "execution_count": 11,
   "metadata": {},
   "outputs": [],
   "source": [
    "#this generates USNs from 1 to 330 \n",
    "#If your branch is different then you can change the branch code such as BEC,BCV etc\n",
    "\n",
    "usns=[]\n",
    "for i in range(1,330):\n",
    "    if i<=9:\n",
    "        usn='01FE20BCS00'+str(i)\n",
    "    elif i>=10 and i<=99:\n",
    "        usn='01FE20BCS0'+str(i)\n",
    "    else:\n",
    "        usn='01FE20BCS'+str(i)\n",
    "    usns.append(usn)\n",
    "#For Diploma students\n",
    "for i in range(1,33):\n",
    "    if i<=9:\n",
    "        usn='01FE21BCS40'+str(i)\n",
    "    elif i>=10 and i<=99:\n",
    "        usn='01FE21BCS4'+str(i)\n",
    "    usns.append(usn)"
   ]
  },
  {
   "attachments": {},
   "cell_type": "markdown",
   "metadata": {},
   "source": [
    "Run the cell below and wait until Google Chrome opens."
   ]
  },
  {
   "cell_type": "code",
   "execution_count": 6,
   "metadata": {},
   "outputs": [],
   "source": [
    "# url=\"https://eresults.kletech.ac.in/index.php\"\n",
    "url=\"https://eresults.kletech.ac.in/kletecheven/index.php\"\n",
    "\n",
    "#This is the path name of chrome driver on my PC\n",
    "# driver = webdriver.Chrome(\"C:/Users/vskon/Downloads/chromedriver_win32/chromedriver\")\n",
    "from selenium import webdriver\n",
    "driver = webdriver.Chrome()\n",
    "\n",
    "driver.get(url)\n",
    "driver.maximize_window()"
   ]
  },
  {
   "attachments": {},
   "cell_type": "markdown",
   "metadata": {},
   "source": [
    "When the webpage opens in the chrome then change the captcha below and run the cell . KLE Tech. Result website has a glitch that its captcha doesn't change if we navigate back on the website."
   ]
  },
  {
   "cell_type": "code",
   "execution_count": 7,
   "metadata": {},
   "outputs": [],
   "source": [
    "#put the captcha as shown in website and run this cell\n",
    "captcha=\"2BKYK\" #this was the current captcha when I was using"
   ]
  },
  {
   "cell_type": "code",
   "execution_count": 13,
   "metadata": {},
   "outputs": [],
   "source": [
    "file=open('result6_sgpa_final.csv','a') #This is the file in which I am storing Name and SGPA"
   ]
  },
  {
   "cell_type": "code",
   "execution_count": null,
   "metadata": {},
   "outputs": [],
   "source": [
    "# Print the USN, name, and SGPA heading\n",
    "print('USN,Name,SGPA', end='')\n",
    "file.write('USN,Name,SGPA')\n",
    "\n",
    "# Print the subject names as headings\n",
    "subjects = ['Minor Project', 'PA & LR', 'Algorithmic Problem Solving', 'Computer Networks-2', 'Distributed & Cloud Computing', 'Computer Networks Lab', 'Blockchain and Distributed Ledgers', 'Industry Readiness and Leadership Skills', 'Parallel Computing', 'Semantic Web', 'Embedded Intelligent Systems']\n",
    "for subject in subjects:\n",
    "    print(',' + subject, end='')\n",
    "    file.write(',' + subject)\n",
    "print()\n",
    "file.write('\\n')\n",
    "\n",
    "# For each USN, scrape the details\n",
    "for username in usns:\n",
    "    driver.find_element(by=By.NAME,value=\"usn\").send_keys(username)\n",
    "    driver.find_element(by=By.NAME,value=\"osolCatchaTxt\").send_keys(captcha)\n",
    "\n",
    "    # driver.find_element_by_formaction(\"index.php?option=com_examresult&task=getResult\").click()\n",
    "    driver.find_element(By.XPATH, '//button[text()=\"Result\"]').click()\n",
    "    \n",
    "    # Handle exceptions for USNs with no results or non-existent USNs\n",
    "    try:\n",
    "        # This //div..... may change depending on what you are trying to scrape\n",
    "        name = driver.find_element(By.XPATH,'//div[contains(@class,\"uk-card uk-card-body stu-data stu-data1\")]')\n",
    "        print(name.text) # optional\n",
    "        \n",
    "    except:\n",
    "        print(\"Error in name\")\n",
    "    \n",
    "    try:\n",
    "        sgpa = driver.find_element(By.XPATH,'//div[contains(@class,\"uk-card uk-card-default uk-card-body credits-sec3\")]')\n",
    "        print(sgpa.text[5:]) # Since the extracted data has SGPA as suffix but we need to store only numerical part\n",
    "        file.write('\\n' + username + ',' + name.text + ',' + sgpa.text[5:])\n",
    "    except:\n",
    "        print(\"Error in sgpa\")\n",
    "\n",
    "    try:\n",
    "        subject_xpath = '//table[@class=\"uk-table uk-table-striped res-table\"]/tbody/tr/td[2]'\n",
    "        grade_xpath = '//table[@class=\"uk-table uk-table-striped res-table\"]/tbody/tr/td[5]'\n",
    "\n",
    "        scraped_subjects = driver.find_elements(By.XPATH, subject_xpath)\n",
    "        grades = driver.find_elements(By.XPATH, grade_xpath)\n",
    "\n",
    "        # Create a dictionary of scraped subjects and their grades\n",
    "        grades_dict = {}\n",
    "        for subject, grade in zip(scraped_subjects, grades):\n",
    "            grades_dict[subject.text] = grade.text\n",
    "\n",
    "        # Print only the grades for each USN, or '-' if the subject is not present\n",
    "        for subject in subjects:\n",
    "            if subject in grades_dict:\n",
    "                print(grades_dict[subject], end=',')\n",
    "                file.write(',' + grades_dict[subject])\n",
    "            else:\n",
    "                print('-', end=',')\n",
    "                file.write(',-')\n",
    "\n",
    "    except:\n",
    "        print(\"Error in subjects and grades\")\n",
    "\n",
    "    driver.back() # Navigating back by clicking back button\n",
    "\n",
    "    driver.find_element(by=By.NAME,value=\"usn\").clear() # Clearing the already filled detail\n",
    "    driver.find_element(by=By.NAME,value=\"osolCatchaTxt\").clear() # Clearing the CAPTCHA field as it will be entered again"
   ]
  },
  {
   "cell_type": "code",
   "execution_count": 10,
   "metadata": {},
   "outputs": [],
   "source": [
    "file.close() #closing the file"
   ]
  },
  {
   "cell_type": "code",
   "execution_count": null,
   "metadata": {},
   "outputs": [],
   "source": []
  },
  {
   "cell_type": "code",
   "execution_count": null,
   "metadata": {},
   "outputs": [],
   "source": []
  }
 ],
 "metadata": {
  "kernelspec": {
   "display_name": "Python 3 (ipykernel)",
   "language": "python",
   "name": "python3"
  },
  "language_info": {
   "codemirror_mode": {
    "name": "ipython",
    "version": 3
   },
   "file_extension": ".py",
   "mimetype": "text/x-python",
   "name": "python",
   "nbconvert_exporter": "python",
   "pygments_lexer": "ipython3",
   "version": "3.11.1"
  }
 },
 "nbformat": 4,
 "nbformat_minor": 4
}
